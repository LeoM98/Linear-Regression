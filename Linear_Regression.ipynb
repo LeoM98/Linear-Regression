{
 "cells": [
  {
   "cell_type": "markdown",
   "metadata": {},
   "source": [
    "# Leonardo Monsalvo --> T00047540\n",
    "\n",
    "## Taller de Regresión Lineal"
   ]
  },
  {
   "cell_type": "code",
   "execution_count": 55,
   "metadata": {},
   "outputs": [],
   "source": [
    "import matplotlib.pyplot as plt\n",
    "from sklearn import linear_model\n",
    "import numpy as np"
   ]
  },
  {
   "cell_type": "code",
   "execution_count": 56,
   "metadata": {},
   "outputs": [],
   "source": [
    "a = 1 #Variables temporales\n",
    "b = 2 \n",
    "alphas = [5e-1, 5e-2, 5e-3, 5e-4, 5e-5]\n",
    "e = len(alphas)\n",
    "alpha = 5e-1\n",
    "iteraciones = 1000"
   ]
  },
  {
   "cell_type": "code",
   "execution_count": 57,
   "metadata": {},
   "outputs": [],
   "source": [
    "f = np.loadtxt(\"blood_pressure.txt\")\n",
    "l = f[:,1]\n",
    "xs = f[:,0]\n",
    "def normalization(dato):\n",
    "    n=len(dato) \n",
    "    prom = sum(dato)/n \n",
    "    featureXma = max(dato)\n",
    "    featureYmi = min(dato)\n",
    "    \n",
    "    tot = ((dato-prom)/(featureXma-featureYmi))\n",
    "    return (tot)\n",
    "\n",
    "def featureX():    \n",
    "    x = f[:,0]\n",
    "    x = normalization(x)\n",
    "    return (x)\n",
    "\n",
    "def featureY():\n",
    "    \n",
    "    y = f[:,1]\n",
    "    y = normalization(y)\n",
    "    return (y)"
   ]
  },
  {
   "cell_type": "code",
   "execution_count": 58,
   "metadata": {},
   "outputs": [],
   "source": [
    "def value(x, y, a, b):\n",
    "    m = int(len(x)*0.3)#Prueba real del 30%\n",
    "    error = 0\n",
    "    for i in range(m):\n",
    "        hipotesis = a+b*x[i]\n",
    "        error +=(y[i] - hipotesis)**2\n",
    "    return error/(2*m)\n",
    "\n",
    "def descenso_gradiente(x, y, a, b, alpha, iteracion):\n",
    "    m = int(len(x)*0.7)#Entrenamiento de 70% \n",
    "    hist_coste = []\n",
    "    for ep in range(iteracion):\n",
    "        #Operaciones parciales\n",
    "        b_deriv = 0\n",
    "        a_deriv = 0\n",
    "        \n",
    "        #Se inicia la sumatoria\n",
    "        for i in range(m):\n",
    "            hipotesis = a+b*x[i] #Se calculan los valores de la hipotesis para cada indice\n",
    "            \n",
    "            #Calculo respectivo para cada derivada y se guarda en el vector.\n",
    "            a_deriv += hipotesis - y[i]\n",
    "            b_deriv += (hipotesis - y[i]) * x[i]\n",
    "            hist_coste.append(value(x, y, a, b))\n",
    "        a -= (a_deriv / m) * alpha\n",
    "        b -= (b_deriv / m) * alpha\n",
    "        \n",
    "    return a, b, hist_coste\n",
    "\n",
    "def prediction(a, b, val):\n",
    "    return a+b*val"
   ]
  },
  {
   "cell_type": "code",
   "execution_count": 59,
   "metadata": {},
   "outputs": [
    {
     "name": "stdout",
     "output_type": "stream",
     "text": [
      "\tFORMA DE LA HIPOTESIS\n",
      "\n",
      "H(x) = -0.00181481872208742 + 0.4652865185242025x\n",
      "\n",
      "\tFORMA DEL ERROR\n",
      "\n",
      "error= 0.028162258560861457\n"
     ]
    }
   ],
   "source": [
    "x = featureX()\n",
    "y = featureY()\n",
    "a,b, hist_coste = descenso_gradiente(x, y, a, b, alphas[0], iteraciones)#Mejor ajuste de aprendizaje\n",
    "\n",
    "print (\"\\tFORMA DE LA HIPOTESIS\\n\")\n",
    "print(\"H(x) = {} + {}x\".format(a,b)) #recta con mejor ajuste\n",
    "print (\"\\n\\tFORMA DEL ERROR\\n\")\n",
    "print(\"error= {}\".format(value(x, y, a, b)))"
   ]
  },
  {
   "cell_type": "code",
   "execution_count": 60,
   "metadata": {},
   "outputs": [
    {
     "data": {
      "image/png": "[encoded data removed]",
      "text/plain": [
       "<Figure size 432x288 with 1 Axes>"
      ]
     },
     "metadata": {
      "needs_background": "light"
     },
     "output_type": "display_data"
    }
   ],
   "source": [
    "y_pred=prediction(a,b,x)\n",
    "plt.scatter(x,y)\n",
    "plt.title('LINE THAT FITS THE DATA')\n",
    "plt.xlabel(\"AGE\")\n",
    "plt.ylabel(\"BLOOD PRESSURE\")\n",
    "plt.plot(x,y_pred, color='red')\n",
    "plt.show()"
   ]
  },
  {
   "cell_type": "code",
   "execution_count": 61,
   "metadata": {},
   "outputs": [
    {
     "name": "stdout",
     "output_type": "stream",
     "text": [
      "Alfa de 0.5 los 39.0 años se tendrá una presión sanguínea de 106.0\n",
      "Alfa de 0.05 los 47.0 años se tendrá una presión sanguínea de 149.4\n",
      "Alfa de 0.005 los 45.0 años se tendrá una presión sanguínea de 109.2\n",
      "Alfa de 0.0005 los 47.0 años se tendrá una presión sanguínea de 114.5\n",
      "Alfa de 5e-05 los 65.0 años se tendrá una presión sanguínea de 140.4\n"
     ]
    }
   ],
   "source": [
    "for i in range (e):\n",
    "    \n",
    "    pressure = prediction(xs[i],b,l[i])\n",
    "    print(\"Alfa de {} los {} años se tendrá una presión sanguínea de {:.1f}\".format(alphas[i],xs[i],pressure))"
   ]
  }
 ],
 "metadata": {
  "kernelspec": {
   "display_name": "Python 3",
   "language": "python",
   "name": "python3"
  },
  "language_info": {
   "codemirror_mode": {
    "name": "ipython",
    "version": 3
   },
   "file_extension": ".py",
   "mimetype": "text/x-python",
   "name": "python",
   "nbconvert_exporter": "python",
   "pygments_lexer": "ipython3",
   "version": "3.7.3"
  }
 },
 "nbformat": 4,
 "nbformat_minor": 2
}
